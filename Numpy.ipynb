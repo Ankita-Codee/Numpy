{
 "cells": [
  {
   "cell_type": "markdown",
   "id": "cea55df5",
   "metadata": {},
   "source": [
    "# Numpy"
   ]
  },
  {
   "cell_type": "code",
   "execution_count": 3,
   "id": "65171f8b",
   "metadata": {},
   "outputs": [],
   "source": [
    "import numpy as np\n",
    "import time"
   ]
  },
  {
   "cell_type": "code",
   "execution_count": 5,
   "id": "425b30dd",
   "metadata": {},
   "outputs": [
    {
     "data": {
      "text/plain": [
       "[(1, 4), (2, 5), (3, 6)]"
      ]
     },
     "execution_count": 5,
     "metadata": {},
     "output_type": "execute_result"
    }
   ],
   "source": [
    "a=[1,2,3]\n",
    "b=[4,5,6]\n",
    "list(zip(a,b))\n"
   ]
  },
  {
   "cell_type": "code",
   "execution_count": 8,
   "id": "8089ce15",
   "metadata": {},
   "outputs": [
    {
     "name": "stdout",
     "output_type": "stream",
     "text": [
      "20.56193995475769\n"
     ]
    }
   ],
   "source": [
    "a = list(range(100000000))\n",
    "b = list(range(100000000))\n",
    "\n",
    "start_t = time.time()\n",
    "c = [x+y for x,y in zip(a,b)]\n",
    "end_t = time.time()\n",
    "\n",
    "diff = end_t-start_t\n",
    "print(diff)"
   ]
  },
  {
   "cell_type": "code",
   "execution_count": 10,
   "id": "c8a4b81c",
   "metadata": {},
   "outputs": [
    {
     "name": "stdout",
     "output_type": "stream",
     "text": [
      "1.3713159561157227\n"
     ]
    }
   ],
   "source": [
    "a = np.arange(100000000)\n",
    "b = np.arange(100000000)\n",
    "\n",
    "start_t = time.time()\n",
    "c = a+b\n",
    "end_t = time.time()\n",
    "\n",
    "diff = end_t-start_t\n",
    "print(diff)"
   ]
  },
  {
   "cell_type": "markdown",
   "id": "ea2f6cbc",
   "metadata": {},
   "source": [
    "# 1 np.array()"
   ]
  },
  {
   "cell_type": "code",
   "execution_count": 12,
   "id": "057c0513",
   "metadata": {},
   "outputs": [],
   "source": [
    "array_n1 = np.array([1,2,3])"
   ]
  },
  {
   "cell_type": "code",
   "execution_count": 14,
   "id": "4e51ef47",
   "metadata": {},
   "outputs": [
    {
     "name": "stdout",
     "output_type": "stream",
     "text": [
      "[1 2 3]\n",
      "<class 'numpy.ndarray'>\n",
      "<class 'numpy.int64'>\n"
     ]
    }
   ],
   "source": [
    "print(array_n1)\n",
    "print(type(array_n1))\n",
    "print(type(array_n1[0]))"
   ]
  },
  {
   "cell_type": "code",
   "execution_count": 15,
   "id": "66d6946a",
   "metadata": {},
   "outputs": [
    {
     "name": "stdout",
     "output_type": "stream",
     "text": [
      "<class 'numpy.ndarray'>\n",
      "<class 'numpy.int8'>\n"
     ]
    }
   ],
   "source": [
    "array_n2 = np.array([1,2,3], dtype=np.int8)\n",
    "print(type(array_n2))\n",
    "print(type(array_n2[0]))"
   ]
  },
  {
   "cell_type": "code",
   "execution_count": 17,
   "id": "43c79db0",
   "metadata": {},
   "outputs": [
    {
     "name": "stdout",
     "output_type": "stream",
     "text": [
      "[1 2 3]\n",
      "<class 'numpy.ndarray'>\n",
      "<class 'numpy.int8'>\n"
     ]
    }
   ],
   "source": [
    "array_n2 = np.array([1,2,\"3\"], dtype=np.int8)\n",
    "print(array_n2)\n",
    "print(type(array_n2))\n",
    "print(type(array_n2[2]))\n"
   ]
  },
  {
   "cell_type": "code",
   "execution_count": 18,
   "id": "383dd6f5",
   "metadata": {},
   "outputs": [
    {
     "name": "stdout",
     "output_type": "stream",
     "text": [
      "[1. 2. 3.]\n",
      "<class 'numpy.ndarray'>\n",
      "<class 'numpy.float16'>\n"
     ]
    }
   ],
   "source": [
    "array_n2 = np.array([1,2,\"3\"], dtype=np.float16)\n",
    "print(array_n2)\n",
    "print(type(array_n2))\n",
    "print(type(array_n2[2]))"
   ]
  },
  {
   "cell_type": "markdown",
   "id": "e5c6b366",
   "metadata": {},
   "source": [
    "# 2. np.arange(start, stop, step)"
   ]
  },
  {
   "cell_type": "code",
   "execution_count": 19,
   "id": "5b138f78",
   "metadata": {},
   "outputs": [
    {
     "name": "stdout",
     "output_type": "stream",
     "text": [
      "[0 1 2 3 4]\n",
      "[1 3 5 7 9]\n",
      "<class 'numpy.ndarray'>\n"
     ]
    }
   ],
   "source": [
    "print(np.arange(5))\n",
    "\n",
    "print(np.arange(1, 10, 2))\n",
    "\n",
    "np_arange = np.arange(1, 10, 2)\n",
    "print(type(np_arange))"
   ]
  },
  {
   "cell_type": "markdown",
   "id": "8e67b863",
   "metadata": {},
   "source": [
    "# np.linspace(start, stop, num=x)\n",
    "np.linspace(start, stop, num) generates num evenly spaced values between start and stop, inclusive.\n",
    "\n"
   ]
  },
  {
   "cell_type": "code",
   "execution_count": 20,
   "id": "74473f17",
   "metadata": {},
   "outputs": [
    {
     "name": "stdout",
     "output_type": "stream",
     "text": [
      "[  1.  34.  67. 100.]\n",
      "<class 'numpy.ndarray'>\n"
     ]
    }
   ],
   "source": [
    "np_linspace = np.linspace(1,100,4)\n",
    "print(np_linspace)\n",
    "print(type(np_linspace))"
   ]
  },
  {
   "cell_type": "code",
   "execution_count": 22,
   "id": "6d579177",
   "metadata": {},
   "outputs": [
    {
     "name": "stdout",
     "output_type": "stream",
     "text": [
      "1.0\n",
      "2.0\n",
      "3.0\n",
      "4.0\n",
      "5.0\n",
      "6.0\n",
      "7.0\n",
      "8.0\n",
      "9.0\n",
      "10.0\n"
     ]
    }
   ],
   "source": [
    "for i in np.linspace(1,10,10):\n",
    "    print(i)"
   ]
  },
  {
   "cell_type": "markdown",
   "id": "3022511f",
   "metadata": {},
   "source": [
    "# np.zeros(shape)"
   ]
  },
  {
   "cell_type": "code",
   "execution_count": 25,
   "id": "a40643f4",
   "metadata": {},
   "outputs": [
    {
     "data": {
      "text/plain": [
       "array([0., 0., 0., 0., 0.])"
      ]
     },
     "execution_count": 25,
     "metadata": {},
     "output_type": "execute_result"
    }
   ],
   "source": [
    "npz_1 = np.zeros(5)\n",
    "npz_1"
   ]
  },
  {
   "cell_type": "code",
   "execution_count": 24,
   "id": "7c592339",
   "metadata": {},
   "outputs": [
    {
     "data": {
      "text/plain": [
       "1"
      ]
     },
     "execution_count": 24,
     "metadata": {},
     "output_type": "execute_result"
    }
   ],
   "source": [
    "npz_1.ndim"
   ]
  },
  {
   "cell_type": "code",
   "execution_count": 26,
   "id": "5dd79076",
   "metadata": {},
   "outputs": [
    {
     "name": "stdout",
     "output_type": "stream",
     "text": [
      "[[0. 0. 0. 0. 0.]\n",
      " [0. 0. 0. 0. 0.]\n",
      " [0. 0. 0. 0. 0.]\n",
      " [0. 0. 0. 0. 0.]\n",
      " [0. 0. 0. 0. 0.]]\n"
     ]
    }
   ],
   "source": [
    "npz_2 = np.zeros((5,5))\n",
    "print(npz_2)"
   ]
  },
  {
   "cell_type": "code",
   "execution_count": 27,
   "id": "c2e848c8",
   "metadata": {},
   "outputs": [
    {
     "data": {
      "text/plain": [
       "2"
      ]
     },
     "execution_count": 27,
     "metadata": {},
     "output_type": "execute_result"
    }
   ],
   "source": [
    "npz_2.ndim"
   ]
  },
  {
   "cell_type": "code",
   "execution_count": 28,
   "id": "f13a0801",
   "metadata": {},
   "outputs": [
    {
     "name": "stdout",
     "output_type": "stream",
     "text": [
      "[[[0. 0. 0. 0. 0.]\n",
      "  [0. 0. 0. 0. 0.]\n",
      "  [0. 0. 0. 0. 0.]\n",
      "  [0. 0. 0. 0. 0.]\n",
      "  [0. 0. 0. 0. 0.]]\n",
      "\n",
      " [[0. 0. 0. 0. 0.]\n",
      "  [0. 0. 0. 0. 0.]\n",
      "  [0. 0. 0. 0. 0.]\n",
      "  [0. 0. 0. 0. 0.]\n",
      "  [0. 0. 0. 0. 0.]]\n",
      "\n",
      " [[0. 0. 0. 0. 0.]\n",
      "  [0. 0. 0. 0. 0.]\n",
      "  [0. 0. 0. 0. 0.]\n",
      "  [0. 0. 0. 0. 0.]\n",
      "  [0. 0. 0. 0. 0.]]\n",
      "\n",
      " [[0. 0. 0. 0. 0.]\n",
      "  [0. 0. 0. 0. 0.]\n",
      "  [0. 0. 0. 0. 0.]\n",
      "  [0. 0. 0. 0. 0.]\n",
      "  [0. 0. 0. 0. 0.]]\n",
      "\n",
      " [[0. 0. 0. 0. 0.]\n",
      "  [0. 0. 0. 0. 0.]\n",
      "  [0. 0. 0. 0. 0.]\n",
      "  [0. 0. 0. 0. 0.]\n",
      "  [0. 0. 0. 0. 0.]]]\n"
     ]
    }
   ],
   "source": [
    "npz_3 = np.zeros((5,5,5))\n",
    "print(npz_3)"
   ]
  },
  {
   "cell_type": "code",
   "execution_count": 29,
   "id": "02484e71",
   "metadata": {},
   "outputs": [
    {
     "data": {
      "text/plain": [
       "3"
      ]
     },
     "execution_count": 29,
     "metadata": {},
     "output_type": "execute_result"
    }
   ],
   "source": [
    "npz_3.ndim"
   ]
  },
  {
   "cell_type": "markdown",
   "id": "d9efe381",
   "metadata": {},
   "source": [
    "# np.ones()"
   ]
  },
  {
   "cell_type": "code",
   "execution_count": 30,
   "id": "174d7ace",
   "metadata": {},
   "outputs": [
    {
     "data": {
      "text/plain": [
       "array([[1., 1., 1., 1., 1.],\n",
       "       [1., 1., 1., 1., 1.],\n",
       "       [1., 1., 1., 1., 1.],\n",
       "       [1., 1., 1., 1., 1.],\n",
       "       [1., 1., 1., 1., 1.]])"
      ]
     },
     "execution_count": 30,
     "metadata": {},
     "output_type": "execute_result"
    }
   ],
   "source": [
    "np.ones((5,5))"
   ]
  },
  {
   "cell_type": "code",
   "execution_count": 31,
   "id": "f3ef0d53",
   "metadata": {},
   "outputs": [
    {
     "data": {
      "text/plain": [
       "array([[1, 1, 1, 1, 1],\n",
       "       [1, 1, 1, 1, 1],\n",
       "       [1, 1, 1, 1, 1],\n",
       "       [1, 1, 1, 1, 1],\n",
       "       [1, 1, 1, 1, 1]], dtype=int8)"
      ]
     },
     "execution_count": 31,
     "metadata": {},
     "output_type": "execute_result"
    }
   ],
   "source": [
    "np.ones((5,5), dtype=np.int8)"
   ]
  },
  {
   "cell_type": "markdown",
   "id": "49f7e4ea",
   "metadata": {},
   "source": [
    "# np.full()"
   ]
  },
  {
   "cell_type": "code",
   "execution_count": 32,
   "id": "f6ff375d",
   "metadata": {},
   "outputs": [
    {
     "data": {
      "text/plain": [
       "array([[0, 0, 0, 0, 0],\n",
       "       [0, 0, 0, 0, 0],\n",
       "       [0, 0, 0, 0, 0],\n",
       "       [0, 0, 0, 0, 0],\n",
       "       [0, 0, 0, 0, 0]])"
      ]
     },
     "execution_count": 32,
     "metadata": {},
     "output_type": "execute_result"
    }
   ],
   "source": [
    "np.full((5,5), 0)"
   ]
  },
  {
   "cell_type": "code",
   "execution_count": 33,
   "id": "3f0c6618",
   "metadata": {},
   "outputs": [
    {
     "data": {
      "text/plain": [
       "array([[100, 100, 100, 100, 100],\n",
       "       [100, 100, 100, 100, 100],\n",
       "       [100, 100, 100, 100, 100],\n",
       "       [100, 100, 100, 100, 100],\n",
       "       [100, 100, 100, 100, 100]])"
      ]
     },
     "execution_count": 33,
     "metadata": {},
     "output_type": "execute_result"
    }
   ],
   "source": [
    "np.full((5,5), 100)"
   ]
  },
  {
   "cell_type": "code",
   "execution_count": 35,
   "id": "cc825e62",
   "metadata": {},
   "outputs": [
    {
     "data": {
      "text/plain": [
       "array([5, 5, 5, 5, 5, 5, 5, 5, 5, 5])"
      ]
     },
     "execution_count": 35,
     "metadata": {},
     "output_type": "execute_result"
    }
   ],
   "source": [
    "np.full(10, 5)\n",
    "# np.full(shape, fill_value)"
   ]
  },
  {
   "cell_type": "markdown",
   "id": "5a43c2c3",
   "metadata": {},
   "source": [
    "# np.eye(n)"
   ]
  },
  {
   "cell_type": "code",
   "execution_count": 51,
   "id": "c1fa7b09",
   "metadata": {},
   "outputs": [
    {
     "data": {
      "text/plain": [
       "array([[0., 0., 1., 0., 0.],\n",
       "       [0., 0., 0., 1., 0.],\n",
       "       [0., 0., 0., 0., 1.],\n",
       "       [0., 0., 0., 0., 0.],\n",
       "       [0., 0., 0., 0., 0.],\n",
       "       [0., 0., 0., 0., 0.]])"
      ]
     },
     "execution_count": 51,
     "metadata": {},
     "output_type": "execute_result"
    }
   ],
   "source": [
    "# np.eye(N, M, k)\n",
    "#N: number of rows (6)\n",
    "#M: number of columns (6)\n",
    "#k: index of the diagonal\n",
    "np.eye(6, 5, 2)"
   ]
  },
  {
   "cell_type": "markdown",
   "id": "59dbd6f7",
   "metadata": {},
   "source": [
    "# np.empty(shape)"
   ]
  },
  {
   "cell_type": "code",
   "execution_count": 53,
   "id": "06457542",
   "metadata": {},
   "outputs": [
    {
     "name": "stdout",
     "output_type": "stream",
     "text": [
      "[[0 0 0 0 0]\n",
      " [0 0 0 0 0]\n",
      " [0 0 0 0 0]\n",
      " [0 0 0 0 0]\n",
      " [0 0 0 0 0]]\n"
     ]
    }
   ],
   "source": [
    "a = np.full((5,5), 0)\n",
    "print(a)"
   ]
  },
  {
   "cell_type": "code",
   "execution_count": 54,
   "id": "50f612cc",
   "metadata": {},
   "outputs": [
    {
     "data": {
      "text/plain": [
       "array([[0., 0., 0., 0., 0.],\n",
       "       [0., 0., 0., 0., 0.],\n",
       "       [0., 0., 0., 0., 0.],\n",
       "       [0., 0., 0., 0., 0.],\n",
       "       [0., 0., 0., 0., 0.]])"
      ]
     },
     "execution_count": 54,
     "metadata": {},
     "output_type": "execute_result"
    }
   ],
   "source": [
    "np.empty((5,5))"
   ]
  },
  {
   "cell_type": "code",
   "execution_count": null,
   "id": "528c0842",
   "metadata": {},
   "outputs": [
    {
     "data": {
      "text/plain": [
       "array([[0, 0, 0, 0, 0],\n",
       "       [0, 0, 0, 0, 0],\n",
       "       [0, 0, 0, 0, 0],\n",
       "       [0, 0, 0, 0, 0],\n",
       "       [0, 0, 0, 0, 0]], dtype=int8)"
      ]
     },
     "execution_count": 47,
     "metadata": {},
     "output_type": "execute_result"
    }
   ],
   "source": [
    "# np.empty((5, 5), dtype=np.int8) creates a 5×5 NumPy array of type int8 (i.e., 8-bit integers), \n",
    "# but does not initialize the entries — meaning the values are random garbage values that already exist in memory.\n",
    "np.empty((5,5), dtype=np.int8)"
   ]
  },
  {
   "cell_type": "code",
   "execution_count": 55,
   "id": "9225bb6e",
   "metadata": {},
   "outputs": [
    {
     "data": {
      "text/plain": [
       "array([[0, 0, 0, 0, 0],\n",
       "       [0, 0, 0, 0, 0],\n",
       "       [0, 0, 0, 0, 0],\n",
       "       [0, 0, 0, 0, 0],\n",
       "       [0, 0, 0, 0, 0]])"
      ]
     },
     "execution_count": 55,
     "metadata": {},
     "output_type": "execute_result"
    }
   ],
   "source": [
    "np.empty((5,5), dtype=int)"
   ]
  },
  {
   "cell_type": "code",
   "execution_count": 63,
   "id": "4ffde475",
   "metadata": {},
   "outputs": [
    {
     "name": "stdout",
     "output_type": "stream",
     "text": [
      "5.929201142862439e-05\n"
     ]
    }
   ],
   "source": [
    "import time\n",
    "# perf_counter() is used to get high-resolution time counter.\n",
    "\n",
    "start_e = time.perf_counter()\n",
    "np.empty((5, 5))\n",
    "end_e = time.perf_counter()\n",
    "total_e = end_e - start_e\n",
    "print(total_e)  "
   ]
  },
  {
   "cell_type": "code",
   "execution_count": 64,
   "id": "e5bb4fc8",
   "metadata": {},
   "outputs": [
    {
     "name": "stdout",
     "output_type": "stream",
     "text": [
      "0.0003731250180862844\n"
     ]
    }
   ],
   "source": [
    "start_we = time.perf_counter()\n",
    "np.ones((5, 5))\n",
    "end_we = time.perf_counter()\n",
    "total_we = end_we - start_we\n",
    "print(total_we)"
   ]
  },
  {
   "cell_type": "markdown",
   "id": "2642a1cb",
   "metadata": {},
   "source": [
    "# np.random.rand(shape)"
   ]
  },
  {
   "cell_type": "code",
   "execution_count": 66,
   "id": "deb47ae7",
   "metadata": {},
   "outputs": [
    {
     "data": {
      "text/plain": [
       "array([[0.30043334, 0.63158801, 0.37547398, 0.35435096, 0.66099008],\n",
       "       [0.34087332, 0.60136364, 0.1055888 , 0.95101235, 0.21157062],\n",
       "       [0.09733358, 0.26876917, 0.91079241, 0.24308009, 0.77368824],\n",
       "       [0.23604336, 0.82830516, 0.86085607, 0.70765238, 0.96530019],\n",
       "       [0.82039557, 0.98132127, 0.93187828, 0.71359291, 0.67478775]])"
      ]
     },
     "execution_count": 66,
     "metadata": {},
     "output_type": "execute_result"
    }
   ],
   "source": [
    "np.random.rand(5,5)"
   ]
  },
  {
   "cell_type": "code",
   "execution_count": 67,
   "id": "ef93519a",
   "metadata": {},
   "outputs": [],
   "source": [
    "a = np.random.rand(10)*10"
   ]
  },
  {
   "cell_type": "code",
   "execution_count": 68,
   "id": "116f0bd6",
   "metadata": {},
   "outputs": [
    {
     "data": {
      "text/plain": [
       "array([6.68670001, 8.03647832, 2.05307259, 3.08416541, 1.93273608,\n",
       "       1.69979461, 5.61410404, 5.29452959, 3.49249166, 3.58712067])"
      ]
     },
     "execution_count": 68,
     "metadata": {},
     "output_type": "execute_result"
    }
   ],
   "source": [
    "a"
   ]
  },
  {
   "cell_type": "code",
   "execution_count": 69,
   "id": "8f43f86f",
   "metadata": {},
   "outputs": [
    {
     "data": {
      "text/plain": [
       "[6.686700014731447,\n",
       " 8.036478320765926,\n",
       " 2.0530725858880174,\n",
       " 3.084165413676762,\n",
       " 1.932736076285415,\n",
       " 1.6997946074368686,\n",
       " 5.614104038189303,\n",
       " 5.294529588765311,\n",
       " 3.4924916609156273,\n",
       " 3.587120671794932]"
      ]
     },
     "execution_count": 69,
     "metadata": {},
     "output_type": "execute_result"
    }
   ],
   "source": [
    "a = a.tolist()\n",
    "a"
   ]
  },
  {
   "cell_type": "code",
   "execution_count": 70,
   "id": "810cd372",
   "metadata": {},
   "outputs": [
    {
     "data": {
      "text/plain": [
       "[6, 8, 2, 3, 1, 1, 5, 5, 3, 3]"
      ]
     },
     "execution_count": 70,
     "metadata": {},
     "output_type": "execute_result"
    }
   ],
   "source": [
    "a = [int(i) for i in a]\n",
    "a"
   ]
  },
  {
   "cell_type": "code",
   "execution_count": 71,
   "id": "e970ec52",
   "metadata": {},
   "outputs": [
    {
     "data": {
      "text/plain": [
       "array([2, 6, 6, 4, 7, 1, 7, 7, 6, 2])"
      ]
     },
     "execution_count": 71,
     "metadata": {},
     "output_type": "execute_result"
    }
   ],
   "source": [
    "np.random.randint(1, 11, 10)"
   ]
  },
  {
   "cell_type": "markdown",
   "id": "7514f4bd",
   "metadata": {},
   "source": [
    "# Questions\n",
    "- A 1D array of numbers from 0 to 9\n",
    "- A 3x3 matrix of all 5s\n",
    "- A 4x4 identity matrix\n",
    "- 10 evenly spaced numbers between 1 and 100\n",
    "- A 2x2 array with random values between 0 and 1"
   ]
  },
  {
   "cell_type": "code",
   "execution_count": null,
   "id": "03e6b2b4",
   "metadata": {},
   "outputs": [
    {
     "name": "stdout",
     "output_type": "stream",
     "text": [
      "[0 1 2 3 4 5 6 7 8 9]\n",
      "<class 'numpy.ndarray'>\n"
     ]
    }
   ],
   "source": [
    "#A 1D array of numbers from 0 to 9\n",
    "a = np.arange(0,10)\n",
    "print(a)\n",
    "print(type(a))"
   ]
  },
  {
   "cell_type": "code",
   "execution_count": null,
   "id": "b936d6c6",
   "metadata": {},
   "outputs": [
    {
     "data": {
      "text/plain": [
       "array([[5, 5, 5],\n",
       "       [5, 5, 5],\n",
       "       [5, 5, 5]])"
      ]
     },
     "execution_count": 75,
     "metadata": {},
     "output_type": "execute_result"
    }
   ],
   "source": [
    "# 3x3 matrix of all 5s\n",
    "np.full((3,3),5)"
   ]
  },
  {
   "cell_type": "code",
   "execution_count": null,
   "id": "2666db1f",
   "metadata": {},
   "outputs": [
    {
     "data": {
      "text/plain": [
       "array([[1., 0., 0., 0.],\n",
       "       [0., 1., 0., 0.],\n",
       "       [0., 0., 1., 0.],\n",
       "       [0., 0., 0., 1.]])"
      ]
     },
     "execution_count": 78,
     "metadata": {},
     "output_type": "execute_result"
    }
   ],
   "source": [
    "# A 4x4 identity matrix\n",
    "np.eye(4,4,0)"
   ]
  },
  {
   "cell_type": "code",
   "execution_count": 79,
   "id": "26d492aa",
   "metadata": {},
   "outputs": [
    {
     "data": {
      "text/plain": [
       "array([  1.,  12.,  23.,  34.,  45.,  56.,  67.,  78.,  89., 100.])"
      ]
     },
     "execution_count": 79,
     "metadata": {},
     "output_type": "execute_result"
    }
   ],
   "source": [
    "# 10 evenly spaced numbers between 1 and 100\n",
    "np.linspace(1,100,10)"
   ]
  },
  {
   "cell_type": "code",
   "execution_count": 80,
   "id": "0c5b842c",
   "metadata": {},
   "outputs": [
    {
     "data": {
      "text/plain": [
       "array([[0.27611873, 0.50381394],\n",
       "       [0.28082342, 0.95801561]])"
      ]
     },
     "execution_count": 80,
     "metadata": {},
     "output_type": "execute_result"
    }
   ],
   "source": [
    "# A 2x2 array with random values between 0 and 1\n",
    "np.random.rand(2,2)"
   ]
  },
  {
   "cell_type": "markdown",
   "id": "bbfac98c",
   "metadata": {},
   "source": [
    "# Numpy Math Operation\n"
   ]
  },
  {
   "cell_type": "code",
   "execution_count": 3,
   "id": "47ca1de1",
   "metadata": {},
   "outputs": [
    {
     "data": {
      "text/plain": [
       "[1, 2, 3, 4, 5, 6]"
      ]
     },
     "execution_count": 3,
     "metadata": {},
     "output_type": "execute_result"
    }
   ],
   "source": [
    "a=[1,2,3]\n",
    "b=[4,5,6]\n",
    "a+b"
   ]
  },
  {
   "cell_type": "code",
   "execution_count": 4,
   "id": "33bf5331",
   "metadata": {},
   "outputs": [],
   "source": [
    "import numpy as np"
   ]
  },
  {
   "cell_type": "code",
   "execution_count": 10,
   "id": "d30f4b48",
   "metadata": {},
   "outputs": [
    {
     "name": "stdout",
     "output_type": "stream",
     "text": [
      "[5 7 9]\n",
      "<class 'numpy.ndarray'>\n"
     ]
    }
   ],
   "source": [
    "# Convert to array\n",
    "# Vectorize operation\n",
    "a=np.array([1,2,3])\n",
    "b=np.array([4,5,6])\n",
    "print(a+b)\n",
    "print(type(a+b))"
   ]
  },
  {
   "cell_type": "code",
   "execution_count": null,
   "id": "38005893",
   "metadata": {},
   "outputs": [
    {
     "name": "stdout",
     "output_type": "stream",
     "text": [
      "[-3 -3 -3]\n",
      "[ 4 10 18]\n",
      "[0.25 0.4  0.5 ]\n"
     ]
    }
   ],
   "source": [
    "print(a-b)\n",
    "print(a*b)\n",
    "print(a/b)"
   ]
  },
  {
   "cell_type": "code",
   "execution_count": 11,
   "id": "1eed8aba",
   "metadata": {},
   "outputs": [
    {
     "name": "stdout",
     "output_type": "stream",
     "text": [
      "[False False False]\n",
      "[ True  True  True]\n",
      "[False False False]\n"
     ]
    }
   ],
   "source": [
    "# Comparison\n",
    "print(a>b)\n",
    "print(a<b)\n",
    "print(a==b)"
   ]
  },
  {
   "cell_type": "code",
   "execution_count": 14,
   "id": "314875fd",
   "metadata": {},
   "outputs": [
    {
     "name": "stdout",
     "output_type": "stream",
     "text": [
      "<class 'numpy.bool'>\n",
      "<class 'numpy.ndarray'>\n"
     ]
    }
   ],
   "source": [
    "ans = a>b\n",
    "print(type(ans[0]))\n",
    "print(type(ans))"
   ]
  },
  {
   "cell_type": "code",
   "execution_count": 81,
   "id": "3ae1d168",
   "metadata": {},
   "outputs": [
    {
     "name": "stdout",
     "output_type": "stream",
     "text": [
      "[False False  True]\n",
      "[ True False  True]\n",
      "[False  True False]\n"
     ]
    }
   ],
   "source": [
    "# Logical Operator\n",
    "# and, or , not\n",
    "x=np.array([True, False, True])\n",
    "y=np.array([False, False, True])\n",
    "\n",
    "print(np.logical_and(x,y))\n",
    "print(np.logical_or(x, y))\n",
    "print(np.logical_not(x))"
   ]
  },
  {
   "cell_type": "code",
   "execution_count": 20,
   "id": "2d386d48",
   "metadata": {},
   "outputs": [
    {
     "name": "stdout",
     "output_type": "stream",
     "text": [
      "[0 0 1]\n"
     ]
    }
   ],
   "source": [
    "# Bitwise operator\n",
    "a=np.array([1,2,3])\n",
    "b=np.array([0,1,1])\n",
    "print(np.bitwise_and(a, b))"
   ]
  },
  {
   "cell_type": "code",
   "execution_count": 18,
   "id": "6b4c5515",
   "metadata": {},
   "outputs": [
    {
     "name": "stdout",
     "output_type": "stream",
     "text": [
      "[1 6 2]\n",
      "[      1000 1280000000     810000]\n"
     ]
    }
   ],
   "source": [
    "# Modulus and Power\n",
    "a=np.array([10,20,30])\n",
    "b=np.array([3,7,4])\n",
    "print(np.mod(a,b))\n",
    "print(np.power(a,b))"
   ]
  },
  {
   "cell_type": "markdown",
   "id": "9ae77d31",
   "metadata": {},
   "source": [
    "# Scalar Operation\n"
   ]
  },
  {
   "cell_type": "code",
   "execution_count": 21,
   "id": "7a3ae478",
   "metadata": {},
   "outputs": [
    {
     "name": "stdout",
     "output_type": "stream",
     "text": [
      "33.8\n"
     ]
    }
   ],
   "source": [
    "celcius = np.array([0,10,20,30])\n",
    "to_farenhit = (9/5+32)\n",
    "print(to_farenhit)"
   ]
  },
  {
   "cell_type": "code",
   "execution_count": 23,
   "id": "62427990",
   "metadata": {},
   "outputs": [
    {
     "name": "stdout",
     "output_type": "stream",
     "text": [
      "[   0.  338.  676. 1014.]\n"
     ]
    }
   ],
   "source": [
    "celcius = np.array([0,10,20,30])\n",
    "\n",
    "# Broadcasting\n",
    "print(celcius*to_farenhit)"
   ]
  },
  {
   "cell_type": "code",
   "execution_count": 85,
   "id": "ba6e5794",
   "metadata": {},
   "outputs": [
    {
     "name": "stdout",
     "output_type": "stream",
     "text": [
      "[32.0, 50.0, 68.0, 86.0]\n"
     ]
    },
    {
     "ename": "TypeError",
     "evalue": "can't multiply sequence by non-int of type 'float'",
     "output_type": "error",
     "traceback": [
      "\u001b[31m---------------------------------------------------------------------------\u001b[39m",
      "\u001b[31mTypeError\u001b[39m                                 Traceback (most recent call last)",
      "\u001b[36mCell\u001b[39m\u001b[36m \u001b[39m\u001b[32mIn[85]\u001b[39m\u001b[32m, line 8\u001b[39m\n\u001b[32m      6\u001b[39m celcius = [\u001b[32m0\u001b[39m,\u001b[32m10\u001b[39m,\u001b[32m20\u001b[39m,\u001b[32m30\u001b[39m]\n\u001b[32m      7\u001b[39m to_farenhit = ((\u001b[32m9\u001b[39m/\u001b[32m5\u001b[39m)+\u001b[32m32\u001b[39m)\n\u001b[32m----> \u001b[39m\u001b[32m8\u001b[39m \u001b[38;5;28mprint\u001b[39m(\u001b[43mcelcius\u001b[49m\u001b[43m*\u001b[49m\u001b[43mto_farenhit\u001b[49m)\n\u001b[32m      9\u001b[39m \u001b[38;5;66;03m# celcius * to_farenhit is invalid: you can’t multiply a list by a float like that (unless multiplying a list by an int to repeat it).\u001b[39;00m\n",
      "\u001b[31mTypeError\u001b[39m: can't multiply sequence by non-int of type 'float'"
     ]
    }
   ],
   "source": [
    "celcius = [0, 10, 20, 30]\n",
    "to_fahrenheit = [(9/5)*temp + 32 for temp in celcius]\n",
    "print(to_fahrenheit)\n",
    "\n",
    "\n",
    "celcius = [0,10,20,30]\n",
    "to_farenhit = ((9/5)+32)\n",
    "print(celcius*to_farenhit)\n",
    "# celcius * to_farenhit is invalid: you can’t multiply a list by a float like that (unless multiplying a list by an int to repeat it).\n",
    "\n",
    "\n"
   ]
  },
  {
   "cell_type": "markdown",
   "id": "f85480e8",
   "metadata": {},
   "source": [
    "# Common Maths Functions"
   ]
  },
  {
   "cell_type": "code",
   "execution_count": null,
   "id": "548e0cef",
   "metadata": {},
   "outputs": [
    {
     "name": "stdout",
     "output_type": "stream",
     "text": [
      "[1.         1.41421356 1.73205081 2.        ]\n",
      "[ 2.71828183  7.3890561  20.08553692 54.59815003]\n",
      "[0.         0.69314718 1.09861229 1.38629436]\n",
      "[ 0.84147098  0.90929743  0.14112001 -0.7568025 ]\n"
     ]
    }
   ],
   "source": [
    "a=np.array([1,2,3,4])\n",
    "print(np.sqrt(a))\n",
    "print(np.exp(a)) # e^1, e^2\n",
    "print(np.log(a))\n",
    "print(np.sin(a))"
   ]
  },
  {
   "cell_type": "code",
   "execution_count": null,
   "id": "017aaec0",
   "metadata": {},
   "outputs": [
    {
     "name": "stdout",
     "output_type": "stream",
     "text": [
      "[0.26894142 0.5        0.73105858]\n"
     ]
    }
   ],
   "source": [
    "# machine learning\n",
    "# activation function\n",
    "\n",
    "# sigmoid\n",
    "\n",
    "x = np.array([-1, 0, 1])\n",
    "sigmoid = 1 / (1 + np.exp(-x))\n",
    "print(sigmoid)  "
   ]
  },
  {
   "cell_type": "code",
   "execution_count": 33,
   "id": "562b0f9c",
   "metadata": {},
   "outputs": [],
   "source": [
    "a=np.array([[1,2,3],\n",
    "           [4,5,6]])\n"
   ]
  },
  {
   "cell_type": "code",
   "execution_count": 88,
   "id": "5e404196",
   "metadata": {},
   "outputs": [
    {
     "name": "stdout",
     "output_type": "stream",
     "text": [
      "45\n",
      "45\n",
      "4.5\n",
      "2.8722813232690143\n",
      "0\n",
      "9\n"
     ]
    }
   ],
   "source": [
    "print(np.sum(a, axis=0))\n",
    "# across all rows, fix the column\n",
    "\n",
    "print(np.sum(a))\n",
    "print(np.mean(a))\n",
    "print(np.std(a))\n",
    "print(np.min(a))\n",
    "print(np.max(a))\n",
    "\n"
   ]
  },
  {
   "cell_type": "markdown",
   "id": "29a9f369",
   "metadata": {},
   "source": [
    "# Matrix Operation"
   ]
  },
  {
   "cell_type": "code",
   "execution_count": 39,
   "id": "b252d669",
   "metadata": {},
   "outputs": [
    {
     "data": {
      "text/plain": [
       "array([1000, 4000, 7500])"
      ]
     },
     "execution_count": 39,
     "metadata": {},
     "output_type": "execute_result"
    }
   ],
   "source": [
    "# Elementwise operation\n",
    "units=np.array([100,200,250])\n",
    "profits=np.array([10,20,30])\n",
    "units*profits"
   ]
  },
  {
   "cell_type": "markdown",
   "id": "40b3ffd0",
   "metadata": {},
   "source": [
    "# Dot Product"
   ]
  },
  {
   "cell_type": "code",
   "execution_count": 41,
   "id": "11cca06e",
   "metadata": {},
   "outputs": [
    {
     "name": "stdout",
     "output_type": "stream",
     "text": [
      "(3,)\n",
      "(3,)\n"
     ]
    }
   ],
   "source": [
    "house = np.array([1200, 3, 1])\n",
    "w = np.array([200, 1000, 50000])\n",
    "print(house.shape)\n",
    "print(w.shape)"
   ]
  },
  {
   "cell_type": "code",
   "execution_count": 89,
   "id": "96a7ff0e",
   "metadata": {},
   "outputs": [
    {
     "name": "stdout",
     "output_type": "stream",
     "text": [
      "[320000 270000 230000 260000]\n"
     ]
    }
   ],
   "source": [
    "house = np.array([[1200, 3, 1],\n",
    "                  [1200, 3, 0],\n",
    "                  [1000, 3, 0],\n",
    "                  [1000, 1, 1]])\n",
    "w = np.array([200, 10000, 50000])\n",
    "print(np.dot(house, w))"
   ]
  },
  {
   "cell_type": "code",
   "execution_count": 90,
   "id": "16d1a9ed",
   "metadata": {},
   "outputs": [
    {
     "name": "stdout",
     "output_type": "stream",
     "text": [
      "[320000 270000 230000 260000]\n"
     ]
    }
   ],
   "source": [
    "print(np.sum(house * w, axis=1)) # multiplication + sum"
   ]
  },
  {
   "cell_type": "code",
   "execution_count": 46,
   "id": "9f22f3b8",
   "metadata": {},
   "outputs": [
    {
     "name": "stdout",
     "output_type": "stream",
     "text": [
      "293000\n",
      "Price of house is 293000\n"
     ]
    }
   ],
   "source": [
    "p = np.dot(house,w)\n",
    "print(p)\n",
    "print(f\"Price of house is {p}\")"
   ]
  },
  {
   "cell_type": "code",
   "execution_count": 91,
   "id": "4bbd7612",
   "metadata": {},
   "outputs": [],
   "source": [
    "A = np.array([[1, 2, 3, 4], [1, 2, 3, 4]])\n",
    "B = np.array([[1, 2, 3, 4], [1, 2, 3, 4]])"
   ]
  },
  {
   "cell_type": "code",
   "execution_count": 92,
   "id": "3a7d79f5",
   "metadata": {},
   "outputs": [
    {
     "name": "stdout",
     "output_type": "stream",
     "text": [
      "(2, 4)\n",
      "(2, 4)\n"
     ]
    }
   ],
   "source": [
    "print(A.shape)\n",
    "print(B.shape)"
   ]
  },
  {
   "cell_type": "code",
   "execution_count": 93,
   "id": "e83e87c4",
   "metadata": {},
   "outputs": [
    {
     "ename": "ValueError",
     "evalue": "shapes (2,4) and (2,4) not aligned: 4 (dim 1) != 2 (dim 0)",
     "output_type": "error",
     "traceback": [
      "\u001b[31m---------------------------------------------------------------------------\u001b[39m",
      "\u001b[31mValueError\u001b[39m                                Traceback (most recent call last)",
      "\u001b[36mCell\u001b[39m\u001b[36m \u001b[39m\u001b[32mIn[93]\u001b[39m\u001b[32m, line 1\u001b[39m\n\u001b[32m----> \u001b[39m\u001b[32m1\u001b[39m \u001b[38;5;28mprint\u001b[39m(\u001b[43mnp\u001b[49m\u001b[43m.\u001b[49m\u001b[43mdot\u001b[49m\u001b[43m(\u001b[49m\u001b[43mA\u001b[49m\u001b[43m,\u001b[49m\u001b[43m \u001b[49m\u001b[43mB\u001b[49m\u001b[43m)\u001b[49m)\n",
      "\u001b[31mValueError\u001b[39m: shapes (2,4) and (2,4) not aligned: 4 (dim 1) != 2 (dim 0)"
     ]
    }
   ],
   "source": [
    "print(np.dot(A, B))"
   ]
  },
  {
   "cell_type": "code",
   "execution_count": 94,
   "id": "3b95eaba",
   "metadata": {},
   "outputs": [
    {
     "name": "stdout",
     "output_type": "stream",
     "text": [
      "[[30 30]\n",
      " [30 30]]\n"
     ]
    }
   ],
   "source": [
    "print(np.dot(A, B.T))"
   ]
  },
  {
   "cell_type": "code",
   "execution_count": 95,
   "id": "bc99cb74",
   "metadata": {},
   "outputs": [
    {
     "name": "stdout",
     "output_type": "stream",
     "text": [
      "[[30 30]\n",
      " [30 30]]\n"
     ]
    }
   ],
   "source": [
    "print(A @ B.T)"
   ]
  },
  {
   "cell_type": "markdown",
   "id": "7ae04d06",
   "metadata": {},
   "source": [
    "# Broadcasting"
   ]
  },
  {
   "cell_type": "code",
   "execution_count": 47,
   "id": "f72cc3cd",
   "metadata": {},
   "outputs": [
    {
     "name": "stdout",
     "output_type": "stream",
     "text": [
      "(3,)\n",
      "(2, 1)\n"
     ]
    }
   ],
   "source": [
    "a = np.array([1,2,3])\n",
    "b = np.array([[10],[20]])\n",
    "print(a.shape)\n",
    "print(b.shape)"
   ]
  },
  {
   "cell_type": "code",
   "execution_count": 48,
   "id": "6fdeb8f3",
   "metadata": {},
   "outputs": [
    {
     "data": {
      "text/plain": [
       "array([[11, 12, 13],\n",
       "       [21, 22, 23]])"
      ]
     },
     "execution_count": 48,
     "metadata": {},
     "output_type": "execute_result"
    }
   ],
   "source": [
    "a+b"
   ]
  },
  {
   "cell_type": "code",
   "execution_count": 49,
   "id": "5f58dc9e",
   "metadata": {},
   "outputs": [
    {
     "data": {
      "text/plain": [
       "array([[11, 12, 13],\n",
       "       [21, 22, 23]])"
      ]
     },
     "execution_count": 49,
     "metadata": {},
     "output_type": "execute_result"
    }
   ],
   "source": [
    "b+a"
   ]
  },
  {
   "cell_type": "markdown",
   "id": "33528423",
   "metadata": {},
   "source": [
    "# Creating array from existing data"
   ]
  },
  {
   "cell_type": "code",
   "execution_count": 96,
   "id": "eb22da74",
   "metadata": {},
   "outputs": [],
   "source": [
    "a = [1,2,3,4]\n",
    "b = ([[1,2], [2,3]])\n",
    "c = (10,20,30)"
   ]
  },
  {
   "cell_type": "code",
   "execution_count": 98,
   "id": "ead48e5f",
   "metadata": {},
   "outputs": [
    {
     "name": "stdout",
     "output_type": "stream",
     "text": [
      "[1 2 3 4] int64 <class 'list'>\n"
     ]
    }
   ],
   "source": [
    "a_npy = np.array(a)\n",
    "# a_npy.dtype: This shows the data type of the array elements.\n",
    "# type(a): This shows the type of the object itself — which will almost always be:\n",
    "print(a_npy, a_npy.dtype, type(a))"
   ]
  },
  {
   "cell_type": "code",
   "execution_count": 54,
   "id": "217fb999",
   "metadata": {},
   "outputs": [
    {
     "name": "stdout",
     "output_type": "stream",
     "text": [
      "[[1 2]\n",
      " [3 4]]\n",
      "[[1 2 3 4]]\n"
     ]
    }
   ],
   "source": [
    "# vstack\n",
    "a = np.array([[1,2]])\n",
    "b = np.array([[3,4]])\n",
    "print(np.vstack((a,b)))\n",
    "print(np.hstack((a,b)))"
   ]
  },
  {
   "cell_type": "code",
   "execution_count": 99,
   "id": "61f0eacd",
   "metadata": {},
   "outputs": [
    {
     "name": "stdout",
     "output_type": "stream",
     "text": [
      "['hello_user' 'world_123']\n"
     ]
    }
   ],
   "source": [
    "# np.char.<function_name>()\n",
    "\n",
    "# 1. np.add()\n",
    "\n",
    "# \"hello\" + \"hello\"\n",
    "\n",
    "a = np.array(['hello', 'world'])\n",
    "b = np.array(['_user', '_123'])\n",
    "\n",
    "print(np.char.add(a, b))"
   ]
  },
  {
   "cell_type": "code",
   "execution_count": 100,
   "id": "fd3207b2",
   "metadata": {},
   "outputs": [
    {
     "name": "stdout",
     "output_type": "stream",
     "text": [
      "['hellohello' 'worldworld']\n"
     ]
    }
   ],
   "source": [
    "# np.char.multiply()\n",
    "\n",
    "print(np.char.multiply(a, 2))"
   ]
  },
  {
   "cell_type": "code",
   "execution_count": 101,
   "id": "6fc69dbe",
   "metadata": {},
   "outputs": [
    {
     "name": "stdout",
     "output_type": "stream",
     "text": [
      "['HELLO' 'WORLD']\n",
      "['hello' 'world']\n",
      "['Hello' 'World']\n"
     ]
    }
   ],
   "source": [
    "# np.char.upper() / lower() / capitalize()\n",
    "\n",
    "a = np.array(['hello', 'WORLD'])\n",
    "\n",
    "print(np.char.upper(a)) \n",
    "print(np.char.lower(a)) \n",
    "print(np.char.capitalize(a)) "
   ]
  },
  {
   "cell_type": "code",
   "execution_count": 102,
   "id": "96a9dad4",
   "metadata": {},
   "outputs": [
    {
     "name": "stdout",
     "output_type": "stream",
     "text": [
      "['***hello***' '***WORLD***']\n"
     ]
    }
   ],
   "source": [
    "# np.char.center()\n",
    "\n",
    "print(np.char.center(a, 11, fillchar='*'))"
   ]
  },
  {
   "cell_type": "code",
   "execution_count": 56,
   "id": "d2f6610f",
   "metadata": {},
   "outputs": [],
   "source": [
    "a = np.array(['data science','machine-learning'])"
   ]
  },
  {
   "cell_type": "code",
   "execution_count": 109,
   "id": "1e9a4fa2",
   "metadata": {},
   "outputs": [
    {
     "name": "stdout",
     "output_type": "stream",
     "text": [
      "['hell*' 'WORLD']\n"
     ]
    }
   ],
   "source": [
    "# np.char.replace(a, old, new) replaces all occurrences of old with new in each string in the array a.\n",
    "print(np.char.replace(a,'o','*'))"
   ]
  },
  {
   "cell_type": "code",
   "execution_count": 112,
   "id": "ec85dca3",
   "metadata": {},
   "outputs": [
    {
     "name": "stdout",
     "output_type": "stream",
     "text": [
      "['data science' 'machine learning']\n"
     ]
    }
   ],
   "source": [
    "# np.char.replace()\n",
    "a = np.array(['data science','machine-learning'])\n",
    "print(np.char.replace(a, '-', ' '))"
   ]
  },
  {
   "cell_type": "code",
   "execution_count": 114,
   "id": "e9ea4524",
   "metadata": {},
   "outputs": [
    {
     "name": "stdout",
     "output_type": "stream",
     "text": [
      "[list(['data', 'science']) list(['machine', 'learning'])\n",
      " list(['deep', 'learning'])]\n"
     ]
    }
   ],
   "source": [
    "# np.char.split()\n",
    "\n",
    "import numpy as np\n",
    "\n",
    "a = np.array(['data_science', 'machine_learning', 'deep_learning'])\n",
    "result = np.char.split(a, sep='_')\n",
    "print(result)"
   ]
  },
  {
   "cell_type": "code",
   "execution_count": 116,
   "id": "c231ec76",
   "metadata": {},
   "outputs": [
    {
     "name": "stdout",
     "output_type": "stream",
     "text": [
      "[-1  8  5]\n",
      "[2 2 1]\n",
      "[1 0 0]\n",
      "[0 1 1]\n"
     ]
    }
   ],
   "source": [
    "# np.char.find() / np.char.count()\n",
    "\n",
    "print(np.char.find(a, 'learn')) \n",
    "print(np.char.count(a, 'a'))\n",
    "print(np.char.count(a, 'data'))\n",
    "print(np.char.count(a, 'learning'))"
   ]
  },
  {
   "cell_type": "markdown",
   "id": "3868bf78",
   "metadata": {},
   "source": [
    "# Statistical Functions"
   ]
  },
  {
   "cell_type": "code",
   "execution_count": 67,
   "id": "dfe4f85e",
   "metadata": {},
   "outputs": [],
   "source": [
    "data = np.array([1,2,3,4,5,6])"
   ]
  },
  {
   "cell_type": "code",
   "execution_count": 71,
   "id": "01817f2a",
   "metadata": {},
   "outputs": [
    {
     "name": "stdout",
     "output_type": "stream",
     "text": [
      "3.5\n",
      "3.5\n",
      "1.707825127659933\n",
      "2.9166666666666665\n",
      "1\n",
      "6\n",
      "0\n",
      "5\n"
     ]
    }
   ],
   "source": [
    "print(np.mean(data))\n",
    "print(np.median(data))\n",
    "print(np.std(data))\n",
    "print(np.var(data))\n",
    "print(np.min(data))\n",
    "print(np.max(data))\n",
    "print(np.argmin(data))\n",
    "print(np.argmax(data))"
   ]
  },
  {
   "cell_type": "markdown",
   "id": "1adadaff",
   "metadata": {},
   "source": [
    "# Sort , Search, Counting Function"
   ]
  },
  {
   "cell_type": "code",
   "execution_count": 118,
   "id": "4ce37910",
   "metadata": {},
   "outputs": [
    {
     "name": "stdout",
     "output_type": "stream",
     "text": [
      "[1 1 1 1 2 3 5 6 6 8]\n",
      "[2 3 4 5 7 0 8 1 9 6]\n",
      "6\n",
      "[1 2 3 5 6 8]\n",
      "[0 4 1 1 0 1 2 0 1]\n"
     ]
    }
   ],
   "source": [
    "arr = np.array([3,6,1,1,1,1,8,2,5,6])\n",
    "\n",
    "# Returns a sorted copy of the array (ascending order). The original array remains unchanged.\n",
    "print(np.sort(arr))\n",
    "\n",
    "# Returns the indices that would sort the array. Useful for sorting related data in the same order.\n",
    "print(np.argsort(arr))\n",
    "\n",
    "# Finds the index where 4 should be inserted in the sorted array to maintain order.\n",
    "print(np.searchsorted(np.sort(arr),4))\n",
    "\n",
    "# Returns the sorted unique elements of the array.\n",
    "print(np.unique(arr))\n",
    "\n",
    "# Counts the number of occurrences of each integer value (non-negative integers only).      \n",
    "print(np.bincount(arr))"
   ]
  },
  {
   "cell_type": "code",
   "execution_count": 77,
   "id": "c7b7901b",
   "metadata": {},
   "outputs": [
    {
     "name": "stdout",
     "output_type": "stream",
     "text": [
      "3\n",
      "6\n",
      "1\n",
      "1\n",
      "1\n",
      "1\n",
      "8\n",
      "2\n",
      "5\n",
      "6\n"
     ]
    }
   ],
   "source": [
    "arr_2d = np.arange(8).reshape(2,2,2)\n",
    "\n",
    "for x in np.nditer(arr):\n",
    "    print(x)"
   ]
  },
  {
   "cell_type": "code",
   "execution_count": 79,
   "id": "b4dddde4",
   "metadata": {},
   "outputs": [],
   "source": [
    "a = np.array([1,2,3])"
   ]
  },
  {
   "cell_type": "code",
   "execution_count": 80,
   "id": "58e7d7a8",
   "metadata": {},
   "outputs": [],
   "source": [
    "b = a"
   ]
  },
  {
   "cell_type": "code",
   "execution_count": 81,
   "id": "e3f753e9",
   "metadata": {},
   "outputs": [
    {
     "data": {
      "text/plain": [
       "array([1, 2, 3])"
      ]
     },
     "execution_count": 81,
     "metadata": {},
     "output_type": "execute_result"
    }
   ],
   "source": [
    "b"
   ]
  },
  {
   "cell_type": "code",
   "execution_count": 82,
   "id": "71d948d6",
   "metadata": {},
   "outputs": [],
   "source": [
    "b[0]=100"
   ]
  },
  {
   "cell_type": "code",
   "execution_count": 83,
   "id": "8fd73183",
   "metadata": {},
   "outputs": [
    {
     "name": "stdout",
     "output_type": "stream",
     "text": [
      "[100   2   3]\n",
      "[100   2   3]\n"
     ]
    }
   ],
   "source": [
    "print(a)\n",
    "print(b)"
   ]
  },
  {
   "cell_type": "code",
   "execution_count": 84,
   "id": "166a6884",
   "metadata": {},
   "outputs": [],
   "source": [
    "c=a.copy()"
   ]
  },
  {
   "cell_type": "code",
   "execution_count": 85,
   "id": "3441d218",
   "metadata": {},
   "outputs": [
    {
     "name": "stdout",
     "output_type": "stream",
     "text": [
      "[100   2   3]\n",
      "[200   2   3]\n"
     ]
    }
   ],
   "source": [
    "c[0]=200\n",
    "print(a)\n",
    "print(c)"
   ]
  },
  {
   "cell_type": "code",
   "execution_count": 119,
   "id": "9e52e00d",
   "metadata": {},
   "outputs": [],
   "source": [
    "a = np.array([1, 2, 3])\n",
    "\n",
    "b = a.view()\n",
    "\n",
    "c = a.copy()"
   ]
  },
  {
   "cell_type": "code",
   "execution_count": 120,
   "id": "6b913b80",
   "metadata": {},
   "outputs": [
    {
     "name": "stdout",
     "output_type": "stream",
     "text": [
      "[10  2  3]\n"
     ]
    }
   ],
   "source": [
    "b[0] = 10\n",
    "print(a)"
   ]
  },
  {
   "cell_type": "code",
   "execution_count": 121,
   "id": "2b8ac26a",
   "metadata": {},
   "outputs": [
    {
     "name": "stdout",
     "output_type": "stream",
     "text": [
      "[10  2  3]\n"
     ]
    }
   ],
   "source": [
    "c[0] = 20\n",
    "print(a)"
   ]
  },
  {
   "cell_type": "code",
   "execution_count": 86,
   "id": "348e48b6",
   "metadata": {},
   "outputs": [
    {
     "name": "stdout",
     "output_type": "stream",
     "text": [
      "True\n"
     ]
    }
   ],
   "source": [
    "a = np.arange(5)\n",
    "b = a[1:4]\n",
    "print(np.shares_memory(a,b))"
   ]
  },
  {
   "cell_type": "code",
   "execution_count": 87,
   "id": "48553cb8",
   "metadata": {},
   "outputs": [
    {
     "name": "stdout",
     "output_type": "stream",
     "text": [
      "False\n"
     ]
    }
   ],
   "source": [
    "a = np.arange(5)\n",
    "b = a[1:4].copy()\n",
    "print(np.shares_memory(a,b))"
   ]
  },
  {
   "cell_type": "code",
   "execution_count": 123,
   "id": "ff457f53",
   "metadata": {},
   "outputs": [
    {
     "name": "stdout",
     "output_type": "stream",
     "text": [
      "[1 2 3 4]\n",
      "[1 2 3 4]\n"
     ]
    }
   ],
   "source": [
    "a = np.array([[1, 2], [3, 4]])\n",
    "\n",
    "# Converts the 2D array to a 1D array, returns a view (no new memory allocated, if possible).\n",
    "print(a.ravel())\n",
    "\n",
    "# Converts the 2D array to a 1D array, returns a copy (always creates new memory).\n",
    "print(a.flatten())    "
   ]
  },
  {
   "cell_type": "code",
   "execution_count": null,
   "id": "8be350af",
   "metadata": {},
   "outputs": [],
   "source": []
  }
 ],
 "metadata": {
  "kernelspec": {
   "display_name": "Python 3",
   "language": "python",
   "name": "python3"
  },
  "language_info": {
   "codemirror_mode": {
    "name": "ipython",
    "version": 3
   },
   "file_extension": ".py",
   "mimetype": "text/x-python",
   "name": "python",
   "nbconvert_exporter": "python",
   "pygments_lexer": "ipython3",
   "version": "3.11.11"
  }
 },
 "nbformat": 4,
 "nbformat_minor": 5
}
